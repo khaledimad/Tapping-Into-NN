{
 "cells": [
  {
   "cell_type": "markdown",
   "metadata": {},
   "source": [
    "<b><font size=\"6\">\n",
    "Neural Networks</font>"
   ]
  },
  {
   "cell_type": "markdown",
   "metadata": {},
   "source": [
    "<b>Project Description</b>\n",
    "\n",
    "\n",
    "There is a large amount of experience that goes into building a neural network (NN) to solve a classification / regression problem.  In this exercise, we will be following the steps from a very well-articulated tutorial to build a NN.  This NN can be used to identify hand-written digits. The model will be trained against labelled images of hand-written digits and the accuracy for the assigned test set will be calculated. \n",
    "\n",
    "The tutorial can be found at: https://www.digitalocean.com/community/tutorials/how-to-build-a-neural-network-to-recognize-handwritten-digits-with-tensorflow. "
   ]
  },
  {
   "cell_type": "code",
   "execution_count": 1,
   "metadata": {
    "colab": {
     "base_uri": "https://localhost:8080/",
     "height": 63
    },
    "colab_type": "code",
    "executionInfo": {
     "elapsed": 4583,
     "status": "ok",
     "timestamp": 1583040757410,
     "user": {
      "displayName": "Vardhini Manivannan",
      "photoUrl": "",
      "userId": "10973323137688721095"
     },
     "user_tz": 480
    },
    "id": "JFyYEKNfvXcr",
    "outputId": "eaf5ea93-22fe-4ddc-8f5e-8dcfb28d8d9e"
   },
   "outputs": [
    {
     "name": "stderr",
     "output_type": "stream",
     "text": [
      "/Users/kkhaled/anaconda3/lib/python3.7/site-packages/tensorflow/python/framework/dtypes.py:516: FutureWarning: Passing (type, 1) or '1type' as a synonym of type is deprecated; in a future version of numpy, it will be understood as (type, (1,)) / '(1,)type'.\n",
      "  _np_qint8 = np.dtype([(\"qint8\", np.int8, 1)])\n",
      "/Users/kkhaled/anaconda3/lib/python3.7/site-packages/tensorflow/python/framework/dtypes.py:517: FutureWarning: Passing (type, 1) or '1type' as a synonym of type is deprecated; in a future version of numpy, it will be understood as (type, (1,)) / '(1,)type'.\n",
      "  _np_quint8 = np.dtype([(\"quint8\", np.uint8, 1)])\n",
      "/Users/kkhaled/anaconda3/lib/python3.7/site-packages/tensorflow/python/framework/dtypes.py:518: FutureWarning: Passing (type, 1) or '1type' as a synonym of type is deprecated; in a future version of numpy, it will be understood as (type, (1,)) / '(1,)type'.\n",
      "  _np_qint16 = np.dtype([(\"qint16\", np.int16, 1)])\n",
      "/Users/kkhaled/anaconda3/lib/python3.7/site-packages/tensorflow/python/framework/dtypes.py:519: FutureWarning: Passing (type, 1) or '1type' as a synonym of type is deprecated; in a future version of numpy, it will be understood as (type, (1,)) / '(1,)type'.\n",
      "  _np_quint16 = np.dtype([(\"quint16\", np.uint16, 1)])\n",
      "/Users/kkhaled/anaconda3/lib/python3.7/site-packages/tensorflow/python/framework/dtypes.py:520: FutureWarning: Passing (type, 1) or '1type' as a synonym of type is deprecated; in a future version of numpy, it will be understood as (type, (1,)) / '(1,)type'.\n",
      "  _np_qint32 = np.dtype([(\"qint32\", np.int32, 1)])\n",
      "/Users/kkhaled/anaconda3/lib/python3.7/site-packages/tensorflow/python/framework/dtypes.py:525: FutureWarning: Passing (type, 1) or '1type' as a synonym of type is deprecated; in a future version of numpy, it will be understood as (type, (1,)) / '(1,)type'.\n",
      "  np_resource = np.dtype([(\"resource\", np.ubyte, 1)])\n",
      "/Users/kkhaled/anaconda3/lib/python3.7/site-packages/tensorboard/compat/tensorflow_stub/dtypes.py:541: FutureWarning: Passing (type, 1) or '1type' as a synonym of type is deprecated; in a future version of numpy, it will be understood as (type, (1,)) / '(1,)type'.\n",
      "  _np_qint8 = np.dtype([(\"qint8\", np.int8, 1)])\n",
      "/Users/kkhaled/anaconda3/lib/python3.7/site-packages/tensorboard/compat/tensorflow_stub/dtypes.py:542: FutureWarning: Passing (type, 1) or '1type' as a synonym of type is deprecated; in a future version of numpy, it will be understood as (type, (1,)) / '(1,)type'.\n",
      "  _np_quint8 = np.dtype([(\"quint8\", np.uint8, 1)])\n",
      "/Users/kkhaled/anaconda3/lib/python3.7/site-packages/tensorboard/compat/tensorflow_stub/dtypes.py:543: FutureWarning: Passing (type, 1) or '1type' as a synonym of type is deprecated; in a future version of numpy, it will be understood as (type, (1,)) / '(1,)type'.\n",
      "  _np_qint16 = np.dtype([(\"qint16\", np.int16, 1)])\n",
      "/Users/kkhaled/anaconda3/lib/python3.7/site-packages/tensorboard/compat/tensorflow_stub/dtypes.py:544: FutureWarning: Passing (type, 1) or '1type' as a synonym of type is deprecated; in a future version of numpy, it will be understood as (type, (1,)) / '(1,)type'.\n",
      "  _np_quint16 = np.dtype([(\"quint16\", np.uint16, 1)])\n",
      "/Users/kkhaled/anaconda3/lib/python3.7/site-packages/tensorboard/compat/tensorflow_stub/dtypes.py:545: FutureWarning: Passing (type, 1) or '1type' as a synonym of type is deprecated; in a future version of numpy, it will be understood as (type, (1,)) / '(1,)type'.\n",
      "  _np_qint32 = np.dtype([(\"qint32\", np.int32, 1)])\n",
      "/Users/kkhaled/anaconda3/lib/python3.7/site-packages/tensorboard/compat/tensorflow_stub/dtypes.py:550: FutureWarning: Passing (type, 1) or '1type' as a synonym of type is deprecated; in a future version of numpy, it will be understood as (type, (1,)) / '(1,)type'.\n",
      "  np_resource = np.dtype([(\"resource\", np.ubyte, 1)])\n"
     ]
    }
   ],
   "source": [
    "# Importing all the required packages\n",
    "import tensorflow as tf\n",
    "from tensorflow.examples.tutorials.mnist import input_data\n",
    "import numpy as np\n",
    "from PIL import Image"
   ]
  },
  {
   "cell_type": "code",
   "execution_count": 2,
   "metadata": {
    "colab": {
     "base_uri": "https://localhost:8080/",
     "height": 547
    },
    "colab_type": "code",
    "executionInfo": {
     "elapsed": 1627,
     "status": "ok",
     "timestamp": 1583040924920,
     "user": {
      "displayName": "Vardhini Manivannan",
      "photoUrl": "",
      "userId": "10973323137688721095"
     },
     "user_tz": 480
    },
    "id": "-cDqcUalvrTD",
    "outputId": "3e18ec17-0499-4b26-971a-57d538e31801"
   },
   "outputs": [
    {
     "name": "stdout",
     "output_type": "stream",
     "text": [
      "WARNING:tensorflow:From <ipython-input-2-feab9b3ed417>:2: read_data_sets (from tensorflow.contrib.learn.python.learn.datasets.mnist) is deprecated and will be removed in a future version.\n",
      "Instructions for updating:\n",
      "Please use alternatives such as official/mnist/dataset.py from tensorflow/models.\n",
      "WARNING:tensorflow:From /Users/kkhaled/anaconda3/lib/python3.7/site-packages/tensorflow/contrib/learn/python/learn/datasets/mnist.py:260: maybe_download (from tensorflow.contrib.learn.python.learn.datasets.base) is deprecated and will be removed in a future version.\n",
      "Instructions for updating:\n",
      "Please write your own downloading logic.\n",
      "WARNING:tensorflow:From /Users/kkhaled/anaconda3/lib/python3.7/site-packages/tensorflow/contrib/learn/python/learn/datasets/mnist.py:262: extract_images (from tensorflow.contrib.learn.python.learn.datasets.mnist) is deprecated and will be removed in a future version.\n",
      "Instructions for updating:\n",
      "Please use tf.data to implement this functionality.\n",
      "Extracting MNIST_data/train-images-idx3-ubyte.gz\n",
      "WARNING:tensorflow:From /Users/kkhaled/anaconda3/lib/python3.7/site-packages/tensorflow/contrib/learn/python/learn/datasets/mnist.py:267: extract_labels (from tensorflow.contrib.learn.python.learn.datasets.mnist) is deprecated and will be removed in a future version.\n",
      "Instructions for updating:\n",
      "Please use tf.data to implement this functionality.\n",
      "Extracting MNIST_data/train-labels-idx1-ubyte.gz\n",
      "WARNING:tensorflow:From /Users/kkhaled/anaconda3/lib/python3.7/site-packages/tensorflow/contrib/learn/python/learn/datasets/mnist.py:110: dense_to_one_hot (from tensorflow.contrib.learn.python.learn.datasets.mnist) is deprecated and will be removed in a future version.\n",
      "Instructions for updating:\n",
      "Please use tf.one_hot on tensors.\n",
      "Extracting MNIST_data/t10k-images-idx3-ubyte.gz\n",
      "Extracting MNIST_data/t10k-labels-idx1-ubyte.gz\n",
      "WARNING:tensorflow:From /Users/kkhaled/anaconda3/lib/python3.7/site-packages/tensorflow/contrib/learn/python/learn/datasets/mnist.py:290: DataSet.__init__ (from tensorflow.contrib.learn.python.learn.datasets.mnist) is deprecated and will be removed in a future version.\n",
      "Instructions for updating:\n",
      "Please use alternatives such as official/mnist/dataset.py from tensorflow/models.\n"
     ]
    }
   ],
   "source": [
    "# Importing the MNIST dataset for image recognition of digits\n",
    "mnist_data = input_data.read_data_sets(\"MNIST_data/\", one_hot=True)"
   ]
  },
  {
   "cell_type": "code",
   "execution_count": 3,
   "metadata": {
    "colab": {},
    "colab_type": "code",
    "id": "VZmNaRGIvrkX"
   },
   "outputs": [],
   "source": [
    "# Splitting our dataset to training, validation and testing\n",
    "train = mnist_data.train.num_examples  # 55,000\n",
    "validation = mnist_data.validation.num_examples  # 5000\n",
    "test = mnist_data.test.num_examples  # 10,000"
   ]
  },
  {
   "cell_type": "code",
   "execution_count": 4,
   "metadata": {
    "colab": {},
    "colab_type": "code",
    "id": "lyc2HzeIxPZj"
   },
   "outputs": [],
   "source": [
    "# Storing the number of units per layer \n",
    "input = 784  # input layer (28x28 pixels)\n",
    "hidden_layer1 = 512  # 1st hidden layer\n",
    "hidden_layer2 = 256  # 2nd hidden layer\n",
    "hidden_layer3 = 128  # 3rd hidden layer\n",
    "output = 10  # output layer (0-9 digits)"
   ]
  },
  {
   "cell_type": "code",
   "execution_count": 5,
   "metadata": {
    "colab": {},
    "colab_type": "code",
    "id": "ZyWnAs6PxPgF"
   },
   "outputs": [],
   "source": [
    "# Adjusting the hyperparameters\n",
    "learning_rate = 1e-4\n",
    "n_iterations = 1000\n",
    "batch_size = 128\n",
    "dropout = 0.5"
   ]
  },
  {
   "cell_type": "code",
   "execution_count": 6,
   "metadata": {
    "colab": {},
    "colab_type": "code",
    "id": "jUfp-HroydoC"
   },
   "outputs": [],
   "source": [
    "# Building the tensorflow graph\n",
    "# Defining our tensors\n",
    "X = tf.placeholder(\"float\", [None, input])\n",
    "Y = tf.placeholder(\"float\", [None, output])\n",
    "keep_prob = tf.placeholder(tf.float32)"
   ]
  },
  {
   "cell_type": "code",
   "execution_count": 7,
   "metadata": {
    "colab": {},
    "colab_type": "code",
    "id": "0V_JOzSpydqA"
   },
   "outputs": [],
   "source": [
    "# Adjusting parameters the update during the training process\n",
    "weights = {\n",
    "    'w1': tf.Variable(tf.truncated_normal([input, hidden_layer1], stddev=0.1)),\n",
    "    'w2': tf.Variable(tf.truncated_normal([hidden_layer1, hidden_layer2], stddev=0.1)),\n",
    "    'w3': tf.Variable(tf.truncated_normal([hidden_layer2, hidden_layer3], stddev=0.1)),\n",
    "    'out': tf.Variable(tf.truncated_normal([hidden_layer3, output], stddev=0.1)),\n",
    "}"
   ]
  },
  {
   "cell_type": "code",
   "execution_count": 8,
   "metadata": {
    "colab": {},
    "colab_type": "code",
    "id": "cKi5diVlydkM"
   },
   "outputs": [],
   "source": [
    "# Adjusting parameters the update during the training process\n",
    "biases = {\n",
    "    'b1': tf.Variable(tf.constant(0.1, shape=[hidden_layer1])),\n",
    "    'b2': tf.Variable(tf.constant(0.1, shape=[hidden_layer2])),\n",
    "    'b3': tf.Variable(tf.constant(0.1, shape=[hidden_layer3])),\n",
    "    'out': tf.Variable(tf.constant(0.1, shape=[output]))\n",
    "}"
   ]
  },
  {
   "cell_type": "code",
   "execution_count": 9,
   "metadata": {
    "colab": {
     "base_uri": "https://localhost:8080/",
     "height": 70
    },
    "colab_type": "code",
    "executionInfo": {
     "elapsed": 275,
     "status": "ok",
     "timestamp": 1583040944978,
     "user": {
      "displayName": "Vardhini Manivannan",
      "photoUrl": "",
      "userId": "10973323137688721095"
     },
     "user_tz": 480
    },
    "id": "dUOXBhJEzWiX",
    "outputId": "f7529b32-54c0-4f66-ed1b-61dded377c33"
   },
   "outputs": [
    {
     "name": "stdout",
     "output_type": "stream",
     "text": [
      "WARNING:tensorflow:From <ipython-input-9-157bc0b78386>:5: calling dropout (from tensorflow.python.ops.nn_ops) with keep_prob is deprecated and will be removed in a future version.\n",
      "Instructions for updating:\n",
      "Please use `rate` instead of `keep_prob`. Rate should be set to `rate = 1 - keep_prob`.\n"
     ]
    }
   ],
   "source": [
    "# Setting up the layers of the network\n",
    "layer_1 = tf.add(tf.matmul(X, weights['w1']), biases['b1'])\n",
    "layer_2 = tf.add(tf.matmul(layer_1, weights['w2']), biases['b2'])\n",
    "layer_3 = tf.add(tf.matmul(layer_2, weights['w3']), biases['b3'])\n",
    "layer_drop = tf.nn.dropout(layer_3, keep_prob)\n",
    "output_layer = tf.matmul(layer_drop, weights['out']) + biases['out']"
   ]
  },
  {
   "cell_type": "code",
   "execution_count": 10,
   "metadata": {
    "colab": {
     "base_uri": "https://localhost:8080/",
     "height": 158
    },
    "colab_type": "code",
    "executionInfo": {
     "elapsed": 419,
     "status": "ok",
     "timestamp": 1583040947175,
     "user": {
      "displayName": "Vardhini Manivannan",
      "photoUrl": "",
      "userId": "10973323137688721095"
     },
     "user_tz": 480
    },
    "id": "-6qxrZQlzWly",
    "outputId": "cd28ba2c-ba82-42d6-e125-e6e41878cfd7"
   },
   "outputs": [
    {
     "name": "stdout",
     "output_type": "stream",
     "text": [
      "WARNING:tensorflow:From <ipython-input-10-a413023bb5ee>:4: softmax_cross_entropy_with_logits (from tensorflow.python.ops.nn_ops) is deprecated and will be removed in a future version.\n",
      "Instructions for updating:\n",
      "\n",
      "Future major versions of TensorFlow will allow gradients to flow\n",
      "into the labels input on backprop by default.\n",
      "\n",
      "See `tf.nn.softmax_cross_entropy_with_logits_v2`.\n",
      "\n"
     ]
    }
   ],
   "source": [
    "# Defining the loss function\n",
    "cross_entropy = tf.reduce_mean(\n",
    "    tf.nn.softmax_cross_entropy_with_logits(\n",
    "        labels=Y, logits=output_layer\n",
    "        ))\n",
    "train_step = tf.train.AdamOptimizer(1e-4).minimize(cross_entropy)"
   ]
  },
  {
   "cell_type": "code",
   "execution_count": 11,
   "metadata": {
    "colab": {},
    "colab_type": "code",
    "id": "ouSNSWHSzWpB"
   },
   "outputs": [],
   "source": [
    "# Checking accuracy and loss over the number of iterations\n",
    "correct_pred = tf.equal(tf.argmax(output_layer, 1), tf.argmax(Y, 1))\n",
    "accuracy = tf.reduce_mean(tf.cast(correct_pred, tf.float32))"
   ]
  },
  {
   "cell_type": "code",
   "execution_count": 12,
   "metadata": {
    "colab": {},
    "colab_type": "code",
    "id": "GPwYYld8zWfS"
   },
   "outputs": [],
   "source": [
    "# Initializing our session to run the graph\n",
    "init = tf.global_variables_initializer()\n",
    "sess = tf.Session()\n",
    "sess.run(init)"
   ]
  },
  {
   "cell_type": "code",
   "execution_count": 13,
   "metadata": {
    "colab": {
     "base_uri": "https://localhost:8080/",
     "height": 193
    },
    "colab_type": "code",
    "executionInfo": {
     "elapsed": 11496,
     "status": "ok",
     "timestamp": 1583040965888,
     "user": {
      "displayName": "Vardhini Manivannan",
      "photoUrl": "",
      "userId": "10973323137688721095"
     },
     "user_tz": 480
    },
    "id": "Jv2utk4v0gNi",
    "outputId": "324f1bae-fd5a-4000-94ee-390049e6809e"
   },
   "outputs": [
    {
     "name": "stdout",
     "output_type": "stream",
     "text": [
      "Iteration 0 \t| Loss = 3.595962 \t| Accuracy = 0.1328125\n",
      "Iteration 100 \t| Loss = 0.55627 \t| Accuracy = 0.7890625\n",
      "Iteration 200 \t| Loss = 0.5154103 \t| Accuracy = 0.796875\n",
      "Iteration 300 \t| Loss = 0.29503483 \t| Accuracy = 0.8984375\n",
      "Iteration 400 \t| Loss = 0.31398827 \t| Accuracy = 0.9296875\n",
      "Iteration 500 \t| Loss = 0.39183787 \t| Accuracy = 0.8984375\n",
      "Iteration 600 \t| Loss = 0.30945247 \t| Accuracy = 0.921875\n",
      "Iteration 700 \t| Loss = 0.34788683 \t| Accuracy = 0.90625\n",
      "Iteration 800 \t| Loss = 0.2898475 \t| Accuracy = 0.90625\n",
      "Iteration 900 \t| Loss = 0.31228358 \t| Accuracy = 0.890625\n"
     ]
    }
   ],
   "source": [
    "# Checking accuracy and loss over the number of iterations\n",
    "for i in range(n_iterations):\n",
    "    batch_x, batch_y = mnist_data.train.next_batch(batch_size)\n",
    "    sess.run(train_step, feed_dict={\n",
    "        X: batch_x, Y: batch_y, keep_prob: dropout\n",
    "        })\n",
    "\n",
    "    # print loss and accuracy (per minibatch)\n",
    "    if i % 100 == 0:\n",
    "        minibatch_loss, minibatch_accuracy = sess.run(\n",
    "            [cross_entropy, accuracy],\n",
    "            feed_dict={X: batch_x, Y: batch_y, keep_prob: 1.0}\n",
    "            )\n",
    "        print(\n",
    "            \"Iteration\",\n",
    "            str(i),\n",
    "            \"\\t| Loss =\",\n",
    "            str(minibatch_loss),\n",
    "            \"\\t| Accuracy =\",\n",
    "            str(minibatch_accuracy)\n",
    "            )"
   ]
  },
  {
   "cell_type": "code",
   "execution_count": 14,
   "metadata": {
    "colab": {},
    "colab_type": "code",
    "id": "fmj7zNgByDVz"
   },
   "outputs": [],
   "source": [
    "# Adjusting our feed input for datapoints 3301 to 6600\n",
    "feed_dict_input={X: mnist_data.test.images[3301:6600], Y: mnist_data.test.labels[3301:6600], keep_prob: 1.0}"
   ]
  },
  {
   "cell_type": "code",
   "execution_count": 15,
   "metadata": {
    "colab": {
     "base_uri": "https://localhost:8080/",
     "height": 52
    },
    "colab_type": "code",
    "executionInfo": {
     "elapsed": 295,
     "status": "ok",
     "timestamp": 1583040969667,
     "user": {
      "displayName": "Vardhini Manivannan",
      "photoUrl": "",
      "userId": "10973323137688721095"
     },
     "user_tz": 480
    },
    "id": "SzaMJ83U0gQ2",
    "outputId": "06cbaf2c-2170-4b9b-c5d9-5cb8ad366599"
   },
   "outputs": [
    {
     "name": "stdout",
     "output_type": "stream",
     "text": [
      "\n",
      "Accuracy on test set: 0.9111852\n"
     ]
    }
   ],
   "source": [
    "# Calculating the test accuracy\n",
    "test_accuracy = sess.run(accuracy, feed_dict = feed_dict_input)\n",
    "print(\"\\nAccuracy on test set:\", test_accuracy)"
   ]
  },
  {
   "cell_type": "code",
   "execution_count": 16,
   "metadata": {
    "colab": {
     "base_uri": "https://localhost:8080/",
     "height": 210
    },
    "colab_type": "code",
    "executionInfo": {
     "elapsed": 1036,
     "status": "ok",
     "timestamp": 1583040972258,
     "user": {
      "displayName": "Vardhini Manivannan",
      "photoUrl": "",
      "userId": "10973323137688721095"
     },
     "user_tz": 480
    },
    "id": "X_nu8iil0gKp",
    "outputId": "8ece9de8-6570-44d7-c41b-190c0651bf1e"
   },
   "outputs": [
    {
     "name": "stdout",
     "output_type": "stream",
     "text": [
      "--2020-03-02 17:10:24--  https://raw.githubusercontent.com/do-community/tensorflow-digit-recognition/master/test_img.png\n",
      "Resolving raw.githubusercontent.com (raw.githubusercontent.com)... 151.101.40.133\n",
      "Connecting to raw.githubusercontent.com (raw.githubusercontent.com)|151.101.40.133|:443... connected.\n",
      "HTTP request sent, awaiting response... 200 OK\n",
      "Length: 393 [image/png]\n",
      "Saving to: ‘test_img.png.3’\n",
      "\n",
      "test_img.png.3      100%[===================>]     393  --.-KB/s    in 0s      \n",
      "\n",
      "2020-03-02 17:10:24 (16.3 MB/s) - ‘test_img.png.3’ saved [393/393]\n",
      "\n"
     ]
    }
   ],
   "source": [
    "# download sample test image\n",
    "!wget https://raw.githubusercontent.com/do-community/tensorflow-digit-recognition/master/test_img.png"
   ]
  },
  {
   "cell_type": "code",
   "execution_count": 17,
   "metadata": {
    "colab": {},
    "colab_type": "code",
    "id": "bluOirTKvSLt"
   },
   "outputs": [],
   "source": [
    "# Load test image of the handwritten digit\n",
    "img = np.invert(Image.open(\"test_img.png\").convert('L')).ravel()"
   ]
  },
  {
   "cell_type": "code",
   "execution_count": 18,
   "metadata": {
    "colab": {
     "base_uri": "https://localhost:8080/",
     "height": 1000
    },
    "colab_type": "code",
    "executionInfo": {
     "elapsed": 634,
     "status": "error",
     "timestamp": 1583040977436,
     "user": {
      "displayName": "Vardhini Manivannan",
      "photoUrl": "",
      "userId": "10973323137688721095"
     },
     "user_tz": 480
    },
    "id": "9kKWScHQvSHT",
    "outputId": "8bc95f5f-1d9e-44fc-cf6c-cae698855886"
   },
   "outputs": [
    {
     "name": "stdout",
     "output_type": "stream",
     "text": [
      "Prediction for test image: 2\n"
     ]
    }
   ],
   "source": [
    "# Test the image\n",
    "prediction = sess.run(tf.argmax(output_layer, 1), feed_dict={X: [img], Y: mnist_data.test.labels[3300:6600], keep_prob: 1.0})\n",
    "print (\"Prediction for test image:\", np.squeeze(prediction))"
   ]
  },
  {
   "cell_type": "markdown",
   "metadata": {
    "colab_type": "text",
    "id": "zb3HNbG2mSjX"
   },
   "source": [
    "<b>Re-do the entire exercise but without using the dropouts from the final layer.  Calculate accuracy of the new model and compare against the previously achieved accuracy. </b>"
   ]
  },
  {
   "cell_type": "code",
   "execution_count": 19,
   "metadata": {
    "colab": {},
    "colab_type": "code",
    "id": "G_RmHzynmOgc"
   },
   "outputs": [],
   "source": [
    "# Setting up the layers of the network\n",
    "layer_1 = tf.add(tf.matmul(X, weights['w1']), biases['b1'])\n",
    "layer_2 = tf.add(tf.matmul(layer_1, weights['w2']), biases['b2'])\n",
    "layer_3 = tf.add(tf.matmul(layer_2, weights['w3']), biases['b3'])\n",
    "output_layer = tf.matmul(layer_3, weights['out']) + biases['out']"
   ]
  },
  {
   "cell_type": "code",
   "execution_count": 20,
   "metadata": {
    "colab": {},
    "colab_type": "code",
    "id": "odxfv94XmOsz"
   },
   "outputs": [],
   "source": [
    "# Defining the loss function\n",
    "cross_entropy = tf.reduce_mean(\n",
    "    tf.nn.softmax_cross_entropy_with_logits(\n",
    "        labels=Y, logits=output_layer\n",
    "        ))\n",
    "train_step = tf.train.AdamOptimizer(1e-4).minimize(cross_entropy)"
   ]
  },
  {
   "cell_type": "code",
   "execution_count": 21,
   "metadata": {
    "colab": {},
    "colab_type": "code",
    "id": "xJAmy_MLmO3x"
   },
   "outputs": [],
   "source": [
    "# Checking accuracy and loss over the number of iterations\n",
    "correct_pred = tf.equal(tf.argmax(output_layer, 1), tf.argmax(Y, 1))\n",
    "accuracy = tf.reduce_mean(tf.cast(correct_pred, tf.float32))"
   ]
  },
  {
   "cell_type": "code",
   "execution_count": 22,
   "metadata": {
    "colab": {},
    "colab_type": "code",
    "id": "ArjYxOGnmyIG"
   },
   "outputs": [],
   "source": [
    "# Initializing our session to run the graph\n",
    "init = tf.global_variables_initializer()\n",
    "sess = tf.Session()\n",
    "sess.run(init)"
   ]
  },
  {
   "cell_type": "code",
   "execution_count": 23,
   "metadata": {
    "colab": {
     "base_uri": "https://localhost:8080/",
     "height": 193
    },
    "colab_type": "code",
    "executionInfo": {
     "elapsed": 11168,
     "status": "ok",
     "timestamp": 1583041195403,
     "user": {
      "displayName": "Vardhini Manivannan",
      "photoUrl": "",
      "userId": "10973323137688721095"
     },
     "user_tz": 480
    },
    "id": "qOFV-4vUmyWE",
    "outputId": "cf7bcd13-95af-4f13-8d40-09d796a5dc7a"
   },
   "outputs": [
    {
     "name": "stdout",
     "output_type": "stream",
     "text": [
      "Iteration 0 \t| Loss = 3.4733865 \t| Accuracy = 0.1484375\n",
      "Iteration 100 \t| Loss = 0.43558753 \t| Accuracy = 0.8828125\n",
      "Iteration 200 \t| Loss = 0.27184206 \t| Accuracy = 0.921875\n",
      "Iteration 300 \t| Loss = 0.42241454 \t| Accuracy = 0.84375\n",
      "Iteration 400 \t| Loss = 0.40688303 \t| Accuracy = 0.8984375\n",
      "Iteration 500 \t| Loss = 0.29343385 \t| Accuracy = 0.90625\n",
      "Iteration 600 \t| Loss = 0.52287036 \t| Accuracy = 0.890625\n",
      "Iteration 700 \t| Loss = 0.29071504 \t| Accuracy = 0.90625\n",
      "Iteration 800 \t| Loss = 0.35209578 \t| Accuracy = 0.8671875\n",
      "Iteration 900 \t| Loss = 0.37146437 \t| Accuracy = 0.8984375\n"
     ]
    }
   ],
   "source": [
    "# Checking accuracy and loss over the number of iterations\n",
    "for i in range(n_iterations):\n",
    "    batch_x, batch_y = mnist_data.train.next_batch(batch_size)\n",
    "    sess.run(train_step, feed_dict={\n",
    "        X: batch_x, Y: batch_y, keep_prob: dropout\n",
    "        })\n",
    "\n",
    "    # print loss and accuracy (per minibatch)\n",
    "    if i % 100 == 0:\n",
    "        minibatch_loss, minibatch_accuracy = sess.run(\n",
    "            [cross_entropy, accuracy],\n",
    "            feed_dict={X: batch_x, Y: batch_y, keep_prob: 1.0}\n",
    "            )\n",
    "        print(\n",
    "            \"Iteration\",\n",
    "            str(i),\n",
    "            \"\\t| Loss =\",\n",
    "            str(minibatch_loss),\n",
    "            \"\\t| Accuracy =\",\n",
    "            str(minibatch_accuracy)\n",
    "            )"
   ]
  },
  {
   "cell_type": "code",
   "execution_count": 24,
   "metadata": {
    "colab": {},
    "colab_type": "code",
    "id": "eIC7_lDsmyZZ"
   },
   "outputs": [],
   "source": [
    "# Adjusting feed input for datapoints 3301 to 6600\n",
    "feed_dict_input={X: mnist_data.test.images[3301:6600], Y: mnist_data.test.labels[3301:6600], keep_prob: 1.0}"
   ]
  },
  {
   "cell_type": "code",
   "execution_count": 25,
   "metadata": {
    "colab": {
     "base_uri": "https://localhost:8080/",
     "height": 52
    },
    "colab_type": "code",
    "executionInfo": {
     "elapsed": 408,
     "status": "ok",
     "timestamp": 1583041218862,
     "user": {
      "displayName": "Vardhini Manivannan",
      "photoUrl": "",
      "userId": "10973323137688721095"
     },
     "user_tz": 480
    },
    "id": "pAgcFoWWm_3f",
    "outputId": "2b7b5b51-099b-45b9-a12d-e2943a409634"
   },
   "outputs": [
    {
     "name": "stdout",
     "output_type": "stream",
     "text": [
      "\n",
      "Accuracy on test set: 0.91542894\n"
     ]
    }
   ],
   "source": [
    "# Calculating the test accuracy\n",
    "test_accuracy = sess.run(accuracy, feed_dict = feed_dict_input)\n",
    "print(\"\\nAccuracy on test set:\", test_accuracy)"
   ]
  },
  {
   "cell_type": "markdown",
   "metadata": {},
   "source": [
    "<b>Use a multinomial logistic regression model to achieve the same handwriting identification task and compare the out-of-sample accuracy against the results of the neural network.  </b>"
   ]
  },
  {
   "cell_type": "code",
   "execution_count": 26,
   "metadata": {},
   "outputs": [],
   "source": [
    "# Start by importing the right packages\n",
    "from sklearn.linear_model import LogisticRegression"
   ]
  },
  {
   "cell_type": "code",
   "execution_count": 27,
   "metadata": {},
   "outputs": [
    {
     "name": "stdout",
     "output_type": "stream",
     "text": [
      "Extracting MNIST_data/train-images-idx3-ubyte.gz\n",
      "Extracting MNIST_data/train-labels-idx1-ubyte.gz\n",
      "Extracting MNIST_data/t10k-images-idx3-ubyte.gz\n",
      "Extracting MNIST_data/t10k-labels-idx1-ubyte.gz\n"
     ]
    }
   ],
   "source": [
    "# Download the dataset required, this time we turn off hot coding\n",
    "mnist_data2 = input_data.read_data_sets(\"MNIST_data/\", one_hot=False)"
   ]
  },
  {
   "cell_type": "code",
   "execution_count": 28,
   "metadata": {},
   "outputs": [],
   "source": [
    "# Assigning our training dataset\n",
    "train_img = mnist_data2.train.images\n",
    "train_lbl = mnist_data2.train.labels"
   ]
  },
  {
   "cell_type": "code",
   "execution_count": 29,
   "metadata": {},
   "outputs": [
    {
     "name": "stdout",
     "output_type": "stream",
     "text": [
      "(55000, 784)\n",
      "(55000,)\n"
     ]
    }
   ],
   "source": [
    "# Confirm number of training images / labels\n",
    "print(train_img.shape)\n",
    "print(train_lbl.shape)"
   ]
  },
  {
   "cell_type": "code",
   "execution_count": 30,
   "metadata": {},
   "outputs": [],
   "source": [
    "# Assigning our testing dataset\n",
    "test_img = mnist_data2.test.images\n",
    "test_lbl = mnist_data2.test.labels"
   ]
  },
  {
   "cell_type": "code",
   "execution_count": 31,
   "metadata": {},
   "outputs": [
    {
     "name": "stdout",
     "output_type": "stream",
     "text": [
      "(10000, 784)\n",
      "(10000,)\n"
     ]
    }
   ],
   "source": [
    "# Confirm number of training images / labels\n",
    "print(test_img.shape)\n",
    "print(test_lbl.shape)"
   ]
  },
  {
   "cell_type": "code",
   "execution_count": 32,
   "metadata": {},
   "outputs": [],
   "source": [
    "# Setting up our multinomial logistic regression\n",
    "Logistic_Regression = LogisticRegression(multi_class='multinomial')"
   ]
  },
  {
   "cell_type": "code",
   "execution_count": 33,
   "metadata": {},
   "outputs": [
    {
     "name": "stderr",
     "output_type": "stream",
     "text": [
      "/Users/kkhaled/anaconda3/lib/python3.7/site-packages/sklearn/linear_model/_logistic.py:940: ConvergenceWarning: lbfgs failed to converge (status=1):\n",
      "STOP: TOTAL NO. of ITERATIONS REACHED LIMIT.\n",
      "\n",
      "Increase the number of iterations (max_iter) or scale the data as shown in:\n",
      "    https://scikit-learn.org/stable/modules/preprocessing.html\n",
      "Please also refer to the documentation for alternative solver options:\n",
      "    https://scikit-learn.org/stable/modules/linear_model.html#logistic-regression\n",
      "  extra_warning_msg=_LOGISTIC_SOLVER_CONVERGENCE_MSG)\n"
     ]
    },
    {
     "data": {
      "text/plain": [
       "LogisticRegression(C=1.0, class_weight=None, dual=False, fit_intercept=True,\n",
       "                   intercept_scaling=1, l1_ratio=None, max_iter=100,\n",
       "                   multi_class='multinomial', n_jobs=None, penalty='l2',\n",
       "                   random_state=None, solver='lbfgs', tol=0.0001, verbose=0,\n",
       "                   warm_start=False)"
      ]
     },
     "execution_count": 33,
     "metadata": {},
     "output_type": "execute_result"
    }
   ],
   "source": [
    "# Training our model\n",
    "Logistic_Regression.fit(train_img, train_lbl)"
   ]
  },
  {
   "cell_type": "code",
   "execution_count": 34,
   "metadata": {},
   "outputs": [
    {
     "name": "stdout",
     "output_type": "stream",
     "text": [
      "0.9224007274931798\n"
     ]
    }
   ],
   "source": [
    "# Calculating the test accuracy for our required testing dataset\n",
    "accuracy = Logistic_Regression.score(test_img[3301:6600], test_lbl[3301:6600])\n",
    "print(accuracy)"
   ]
  }
 ],
 "metadata": {
  "colab": {
   "authorship_tag": "ABX9TyODvmol7ITPn0s1NXKSGEOE",
   "collapsed_sections": [],
   "name": "HW 7 - NN.ipynb",
   "provenance": []
  },
  "kernelspec": {
   "display_name": "Python 3",
   "language": "python",
   "name": "python3"
  },
  "language_info": {
   "codemirror_mode": {
    "name": "ipython",
    "version": 3
   },
   "file_extension": ".py",
   "mimetype": "text/x-python",
   "name": "python",
   "nbconvert_exporter": "python",
   "pygments_lexer": "ipython3",
   "version": "3.7.3"
  },
  "toc": {
   "base_numbering": 1,
   "nav_menu": {},
   "number_sections": true,
   "sideBar": true,
   "skip_h1_title": false,
   "title_cell": "Table of Contents",
   "title_sidebar": "Contents",
   "toc_cell": false,
   "toc_position": {},
   "toc_section_display": true,
   "toc_window_display": false
  },
  "varInspector": {
   "cols": {
    "lenName": 16,
    "lenType": 16,
    "lenVar": 40
   },
   "kernels_config": {
    "python": {
     "delete_cmd_postfix": "",
     "delete_cmd_prefix": "del ",
     "library": "var_list.py",
     "varRefreshCmd": "print(var_dic_list())"
    },
    "r": {
     "delete_cmd_postfix": ") ",
     "delete_cmd_prefix": "rm(",
     "library": "var_list.r",
     "varRefreshCmd": "cat(var_dic_list()) "
    }
   },
   "types_to_exclude": [
    "module",
    "function",
    "builtin_function_or_method",
    "instance",
    "_Feature"
   ],
   "window_display": false
  }
 },
 "nbformat": 4,
 "nbformat_minor": 1
}
